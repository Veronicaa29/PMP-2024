{
  "nbformat": 4,
  "nbformat_minor": 0,
  "metadata": {
    "colab": {
      "provenance": []
    },
    "kernelspec": {
      "name": "python3",
      "display_name": "Python 3"
    },
    "language_info": {
      "name": "python"
    }
  },
  "cells": [
    {
      "cell_type": "code",
      "execution_count": null,
      "metadata": {
        "id": "QwxDqpGk_Vt1"
      },
      "outputs": [],
      "source": [
        "import pymc as pm\n",
        "import numpy as np\n",
        "import scipy.stats as stats\n",
        "import matplotlib.pyplot as plt\n",
        "import arviz as az\n",
        "import pandas as pd\n",
        "import arviz as az"
      ]
    },
    {
      "cell_type": "code",
      "source": [
        "iris = pd.read_csv(\"iris.csv\")\n",
        "\n",
        "df = iris.query(\"species == ('setosa', 'versicolor')\")\n",
        "y_0 = pd.Categorical(df['species']).codes\n",
        "x_n = 'sepal_length'\n",
        "x_0 = df[x_n].values\n",
        "x_c = x_0 - x_0.mean()"
      ],
      "metadata": {
        "id": "ECmseyKM_bVo"
      },
      "execution_count": null,
      "outputs": []
    },
    {
      "cell_type": "code",
      "source": [
        "with pm.Model() as model_0:\n",
        "  α = pm.Normal('α', mu=0, sigma=10)\n",
        "  β = pm.Normal('β', mu=0, sigma=10)\n",
        "  μ = α + pm.math.dot(x_c, β)\n",
        "  θ = pm.Deterministic('θ', pm.math.sigmoid(μ))\n",
        "  bd = pm.Deterministic('bd', -α/β)\n",
        "  yl = pm.Bernoulli('yl', p=θ, observed=y_0)\n",
        "  idata_0 = pm.sample(1000, return_inferencedata=True)"
      ],
      "metadata": {
        "id": "5jXs30n1_gtH"
      },
      "execution_count": null,
      "outputs": []
    },
    {
      "cell_type": "code",
      "source": [
        "posterior_0 = idata_0.posterior.stack(samples=(\"chain\", \"draw\"))\n",
        "theta = posterior_0['θ'].mean(\"samples\")\n",
        "idx = np.argsort(x_c)\n",
        "plt.plot(x_c[idx], theta[idx], color='C2', lw=3)\n",
        "plt.vlines(posterior_0['bd'].mean(), 0, 1, color='k')\n",
        "bd_hpd = az.hdi(posterior_0['bd'].values)\n",
        "plt.fill_betweenx([0, 1], bd_hpd[0], bd_hpd[1], color='k', alpha=0.5)\n",
        "plt.scatter(x_c, np.random.normal(y_0, 0.02),\n",
        "marker='.', color=[f'C{x}' for x in y_0])\n",
        "az.plot_hdi(x_c, posterior_0['θ'].T, color='C2', smooth=False)\n",
        "plt.xlabel(x_n)\n",
        "plt.ylabel('θ', rotation=0)\n",
        "# use original scale for xticks\n",
        "locs, _ = plt.xticks()\n",
        "plt.xticks(locs, np.round(locs + x_0.mean(), 1))"
      ],
      "metadata": {
        "id": "6WKknH3O_opD"
      },
      "execution_count": null,
      "outputs": []
    }
  ]
}