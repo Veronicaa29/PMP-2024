{
 "cells": [
  {
   "cell_type": "code",
   "execution_count": 4,
   "metadata": {},
   "outputs": [
    {
     "data": {
      "text/plain": [
       "5.0"
      ]
     },
     "execution_count": 4,
     "metadata": {},
     "output_type": "execute_result"
    }
   ],
   "source": [
    "import math\n",
    "\n",
    "a = [3, 4]\n",
    "\n",
    "def norm(v):\n",
    "    # s = 0\n",
    "    # for x in v:\n",
    "    #     s += x ** 2\n",
    "    # return math.sqrt(s)\n",
    "    # formula\n",
    "    return sum(x ** 2 for x in v) ** 0.5\n",
    "\n",
    "norm(a)"
   ]
  },
  {
   "cell_type": "code",
   "execution_count": null,
   "metadata": {},
   "outputs": [],
   "source": [
    "b = [3, 4]\n",
    "\n",
    "# matrice de 2 pe 3\n",
    "a = [\n",
    "    [1, 2, 7],\n",
    "    [3, 4, -2]\n",
    "]\n",
    "\n",
    "c = []\n",
    "for i in range(3):\n",
    "    s = 0\n",
    "    for j in range(2):\n",
    "        s += a[j][i] * b[j]\n",
    "    c.append(s)\n",
    "# * despacheteaza in parametri \n",
    "for v in zip(*a):\n",
    "    c.append(sum(x * y for x, y in zip(v, b)))\n",
    "\n",
    "[sum(x * y for x, y in zip(v, b)) for v in zip(*a)]"
   ]
  }
 ],
 "metadata": {
  "kernelspec": {
   "display_name": "Python 3",
   "language": "python",
   "name": "python3"
  },
  "language_info": {
   "codemirror_mode": {
    "name": "ipython",
    "version": 3
   },
   "file_extension": ".py",
   "mimetype": "text/x-python",
   "name": "python",
   "nbconvert_exporter": "python",
   "pygments_lexer": "ipython3",
   "version": "3.12.3"
  }
 },
 "nbformat": 4,
 "nbformat_minor": 2
}
