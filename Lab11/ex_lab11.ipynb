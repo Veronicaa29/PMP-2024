{
 "cells": [
  {
   "cell_type": "code",
   "execution_count": null,
   "metadata": {
    "vscode": {
     "languageId": "plaintext"
    }
   },
   "outputs": [],
   "source": [
    "import pandas as pd\n",
    "import pymc as pm\n",
    "import arviz as az\n",
    "import numpy as np"
   ]
  },
  {
   "cell_type": "code",
   "execution_count": null,
   "metadata": {
    "vscode": {
     "languageId": "plaintext"
    }
   },
   "outputs": [],
   "source": [
    "data = pd.read_csv(\"real_estate_data.csv\")\n",
    "\n",
    "X1 = data['Surface_area'].values  \n",
    "X2 = data['Rooms'].values         \n",
    "X3 = data['Distance_to_center'].values  \n",
    "y = data['Price'].values          \n",
    "\n",
    "X1_norm = (X1 - np.mean(X1)) / np.std(X1)\n",
    "X2_norm = (X2 - np.mean(X2)) / np.std(X2)\n",
    "X3_norm = (X3 - np.mean(X3)) / np.std(X3)\n",
    "y_norm = (y - np.mean(y)) / np.std(y)"
   ]
  },
  {
   "cell_type": "code",
   "execution_count": null,
   "metadata": {
    "vscode": {
     "languageId": "plaintext"
    }
   },
   "outputs": [],
   "source": [
    "with pm.Model() as model:\n",
    "    # Priori pentru coeficienti si intercept\n",
    "    intercept = pm.Normal(\"intercept\", mu=0, sigma=10) # Valoarea de baza a pretului \n",
    "    beta1 = pm.Normal(\"beta1\", mu=0, sigma=10)  # Coeficient pentru X1 \n",
    "    beta2 = pm.Normal(\"beta2\", mu=0, sigma=10)  # Coeficient pentru X2 \n",
    "    beta3 = pm.Normal(\"beta3\", mu=0, sigma=10)  # Coeficient pentru X3 \n",
    "    sigma = pm.HalfNormal(\"sigma\", sigma=1)     # Deviatia standard pentru erorile de predictie\n",
    "    \n",
    "    # Modelul de regresie liniara\n",
    "    mu = intercept + beta1 * X1_norm + beta2 * X2_norm + beta3 * X3_norm\n",
    "\n",
    "    y_obs = pm.Normal(\"y_obs\", mu=mu, sigma=sigma, observed=y_norm)\n",
    "    \n",
    "    trace = pm.sample(1000, tune=500, return_inferencedata=True)"
   ]
  },
  {
   "cell_type": "code",
   "execution_count": null,
   "metadata": {
    "vscode": {
     "languageId": "plaintext"
    }
   },
   "outputs": [],
   "source": [
    "# Denormalizarea coeficientilor si interceptului\n",
    "# Calcularea statisticilor variabilelor originale\n",
    "mean_X1, std_X1 = np.mean(X1), np.std(X1)\n",
    "mean_X2, std_X2 = np.mean(X2), np.std(X2)\n",
    "mean_X3, std_X3 = np.mean(X3), np.std(X3)\n",
    "mean_y, std_y = np.mean(y), np.std(y)\n",
    "\n",
    "# Extragem coeficientii normalizati din model\n",
    "beta1_norm = trace.posterior['beta1'].mean().item()\n",
    "beta2_norm = trace.posterior['beta2'].mean().item()\n",
    "beta3_norm = trace.posterior['beta3'].mean().item()\n",
    "intercept_norm = trace.posterior['intercept'].mean().item()\n",
    "\n",
    "# Calcularea coeficientilor denormalizati\n",
    "beta1_original = beta1_norm * std_X1 + mean_X1\n",
    "beta2_original = beta2_norm * std_X2 + mean_X2\n",
    "beta3_original = beta3_norm * std_X3 + mean_X3\n",
    "\n",
    "# Calcularea interceptului denormalizat\n",
    "intercept_original = (\n",
    "    intercept_norm * std_y\n",
    "    + mean_y\n",
    "    - (beta1_original * mean_X1 + beta2_original * mean_X2 + beta3_original * mean_X3)\n",
    ")"
   ]
  },
  {
   "cell_type": "code",
   "execution_count": null,
   "metadata": {
    "vscode": {
     "languageId": "plaintext"
    }
   },
   "outputs": [],
   "source": [
    "print(\"\\nCoeficienti in unitati originale:\")\n",
    "print(f\"Coeficientul pentru suprafata utila: {beta1_original:.2f} mii euro/m²\")\n",
    "print(f\"Coeficientul pentru numarul de camere: {beta2_original:.2f} mii euro/camera\")\n",
    "print(f\"Coeficientul pentru distanta fata de centru: {beta3_original:.2f} mii euro/km\")\n",
    "print(f\"Intercept: {intercept_original:.2f} mii euro\")\n",
    "\n",
    "az.plot_posterior(trace, var_names=[\"beta1\", \"beta2\", \"beta3\", \"intercept\"], hdi_prob=0.95)"
   ]
  }
 ],
 "metadata": {
  "language_info": {
   "name": "python"
  }
 },
 "nbformat": 4,
 "nbformat_minor": 2
}
